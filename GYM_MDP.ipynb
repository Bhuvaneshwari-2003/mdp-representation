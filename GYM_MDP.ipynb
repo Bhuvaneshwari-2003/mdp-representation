{
  "nbformat": 4,
  "nbformat_minor": 0,
  "metadata": {
    "colab": {
      "provenance": []
    },
    "kernelspec": {
      "name": "python3",
      "display_name": "Python 3"
    },
    "language_info": {
      "name": "python"
    }
  },
  "cells": [
    {
      "cell_type": "code",
      "execution_count": 1,
      "metadata": {
        "colab": {
          "base_uri": "https://localhost:8080/"
        },
        "id": "rTKU1WQscIYd",
        "outputId": "b31bb5f5-fa79-4583-fdcd-c055ac721b2f"
      },
      "outputs": [
        {
          "output_type": "stream",
          "name": "stdout",
          "text": [
            "Collecting gym-walk\n",
            "  Cloning https://github.com/mimoralea/gym-walk to /tmp/pip-install-ir_i9h97/gym-walk_55717e960cf54314a7db2510180958ab\n",
            "  Running command git clone --filter=blob:none --quiet https://github.com/mimoralea/gym-walk /tmp/pip-install-ir_i9h97/gym-walk_55717e960cf54314a7db2510180958ab\n",
            "  Resolved https://github.com/mimoralea/gym-walk to commit 5999016267d6de2f5a63307fb00dfd63de319ac1\n",
            "  Preparing metadata (setup.py) ... \u001b[?25l\u001b[?25hdone\n",
            "Requirement already satisfied: gym in /usr/local/lib/python3.10/dist-packages (from gym-walk) (0.25.2)\n",
            "Requirement already satisfied: numpy>=1.18.0 in /usr/local/lib/python3.10/dist-packages (from gym->gym-walk) (1.25.2)\n",
            "Requirement already satisfied: cloudpickle>=1.2.0 in /usr/local/lib/python3.10/dist-packages (from gym->gym-walk) (2.2.1)\n",
            "Requirement already satisfied: gym-notices>=0.0.4 in /usr/local/lib/python3.10/dist-packages (from gym->gym-walk) (0.0.8)\n",
            "Building wheels for collected packages: gym-walk\n",
            "  Building wheel for gym-walk (setup.py) ... \u001b[?25l\u001b[?25hdone\n",
            "  Created wheel for gym-walk: filename=gym_walk-0.0.2-py3-none-any.whl size=4053 sha256=7148eda364acc194d073acebd726e6ba5add40b88c0dce63d6b86032b40a129d\n",
            "  Stored in directory: /tmp/pip-ephem-wheel-cache-qct5ok8v/wheels/24/fe/c4/0cbc7511d29265bad7e28a09311db3f87f0cafba74af54d530\n",
            "Successfully built gym-walk\n",
            "Installing collected packages: gym-walk\n",
            "Successfully installed gym-walk-0.0.2\n"
          ]
        }
      ],
      "source": [
        "pip install git+https://github.com/mimoralea/gym-walk#egg=gym-walk\n"
      ]
    },
    {
      "cell_type": "code",
      "source": [
        "P = {\n",
        "    0 : {\n",
        "        0 : [(1.0, 0, 0.0, False)],\n",
        "        1 : [(1.0, 1, 0.0, False)],\n",
        "        2 : [(1.0, 2, 0.0, False)],\n",
        "        3 : [(1.0, 0, 0.0, False)]\n",
        "    },\n",
        "\n",
        "    1 : {\n",
        "        0 : [(1.0, 1, 0.0, False)],\n",
        "        1 : [(1.0, 1, 0.0, False)],\n",
        "        2 : [(0.8, 3, 0.0, False), (0.2, 1, 0.0, False)],\n",
        "        3 : [(0.8, 0, 0.0, False), (0.2, 1, 0.0, False)]\n",
        "    },\n",
        "\n",
        "    2 : {\n",
        "        0 : [(0.8, 0, 0.0, False), (0.2, 2, 0.0, False)],\n",
        "        1 : [(0.8, 3, 0.0, False), (0.2, 2, 0.0, False)],\n",
        "        2 : [(1.0, 2, 0.0, False)],\n",
        "        3 : [(1.0, 2, 0.0, False)]\n",
        "    },\n",
        "\n",
        "    3 : {\n",
        "        0 : [(0.8, 1, 0.0, False), (0.2, 3, 0.0, False)],\n",
        "        1 : [(1.0, 3, 0.0, False)],\n",
        "        2 : [(0.8, 4, 0.0, False), (0.2, 3, 0.0, False)],\n",
        "        3 : [(0.8, 2, 0.0, False), (0.2, 3, 0.0, False)]\n",
        "    },\n",
        "\n",
        "    4 : {\n",
        "        0 : [(0.8, 3, 0.0, False), (0.2, 4, 0.0, False)],\n",
        "        1 : [(0.8, 5, 0.0, False), (0.2, 4, 0.0, False)],\n",
        "        2 : [(0.8, 6, 0.0, False), (0.2, 4, 0.0, False)],\n",
        "        3 : [(1.0, 4, 0.0, False)]\n",
        "    },\n",
        "\n",
        "    5 : {\n",
        "        0 : [(1.0, 5, 0.0, False)],\n",
        "        1 : [(1.0, 5, 0.0, False)],\n",
        "        2 : [(0.8, 7, 1.0, True), (0.2, 5, 0.0, False)],\n",
        "        3 : [(0.8, 4, 0.0, False), (0.2, 5, 0.0, False)]\n",
        "    },\n",
        "\n",
        "    6 : {\n",
        "        0 : [(0.8, 4, 0.0, False), (0.2, 6, 0.0, False)],\n",
        "        1 : [(0.8, 7, 1.0, True), (0.2, 6, 0.0, False)],\n",
        "        2 : [(1.0, 6, 0.0, False)],\n",
        "        3 : [(1.0, 6, 0.0, False)]\n",
        "    },\n",
        "\n",
        "    7 : {\n",
        "        0 : [(1.0, 7, 0.0, True)],\n",
        "        1 : [(1.0, 7, 0.0, True)],\n",
        "        2 : [(1.0, 7, 0.0, True)],\n",
        "        3 : [(1.0, 7, 0.0, True)]\n",
        "    }\n",
        "}"
      ],
      "metadata": {
        "id": "JVcWgIAOfhCi"
      },
      "execution_count": 2,
      "outputs": []
    },
    {
      "cell_type": "markdown",
      "source": [],
      "metadata": {
        "id": "G6GOMy2vifOd"
      }
    },
    {
      "cell_type": "code",
      "source": [
        "P"
      ],
      "metadata": {
        "colab": {
          "base_uri": "https://localhost:8080/"
        },
        "id": "Y8KmrJAodm-x",
        "outputId": "1e4d1974-723d-4a5b-82b7-86715b41a032"
      },
      "execution_count": 3,
      "outputs": [
        {
          "output_type": "execute_result",
          "data": {
            "text/plain": [
              "{0: {0: [(1.0, 0, 0.0, False)],\n",
              "  1: [(1.0, 1, 0.0, False)],\n",
              "  2: [(1.0, 2, 0.0, False)],\n",
              "  3: [(1.0, 0, 0.0, False)]},\n",
              " 1: {0: [(1.0, 1, 0.0, False)],\n",
              "  1: [(1.0, 1, 0.0, False)],\n",
              "  2: [(0.8, 3, 0.0, False), (0.2, 1, 0.0, False)],\n",
              "  3: [(0.8, 0, 0.0, False), (0.2, 1, 0.0, False)]},\n",
              " 2: {0: [(0.8, 0, 0.0, False), (0.2, 2, 0.0, False)],\n",
              "  1: [(0.8, 3, 0.0, False), (0.2, 2, 0.0, False)],\n",
              "  2: [(1.0, 2, 0.0, False)],\n",
              "  3: [(1.0, 2, 0.0, False)]},\n",
              " 3: {0: [(0.8, 1, 0.0, False), (0.2, 3, 0.0, False)],\n",
              "  1: [(1.0, 3, 0.0, False)],\n",
              "  2: [(0.8, 4, 0.0, False), (0.2, 3, 0.0, False)],\n",
              "  3: [(0.8, 2, 0.0, False), (0.2, 3, 0.0, False)]},\n",
              " 4: {0: [(0.8, 3, 0.0, False), (0.2, 4, 0.0, False)],\n",
              "  1: [(0.8, 5, 0.0, False), (0.2, 4, 0.0, False)],\n",
              "  2: [(0.8, 6, 0.0, False), (0.2, 4, 0.0, False)],\n",
              "  3: [(1.0, 4, 0.0, False)]},\n",
              " 5: {0: [(1.0, 5, 0.0, False)],\n",
              "  1: [(1.0, 5, 0.0, False)],\n",
              "  2: [(0.8, 7, 1.0, True), (0.2, 5, 0.0, False)],\n",
              "  3: [(0.8, 4, 0.0, False), (0.2, 5, 0.0, False)]},\n",
              " 6: {0: [(0.8, 4, 0.0, False), (0.2, 6, 0.0, False)],\n",
              "  1: [(0.8, 7, 1.0, True), (0.2, 6, 0.0, False)],\n",
              "  2: [(1.0, 6, 0.0, False)],\n",
              "  3: [(1.0, 6, 0.0, False)]},\n",
              " 7: {0: [(1.0, 7, 0.0, True)],\n",
              "  1: [(1.0, 7, 0.0, True)],\n",
              "  2: [(1.0, 7, 0.0, True)],\n",
              "  3: [(1.0, 7, 0.0, True)]}}"
            ]
          },
          "metadata": {},
          "execution_count": 3
        }
      ]
    }
  ]
}